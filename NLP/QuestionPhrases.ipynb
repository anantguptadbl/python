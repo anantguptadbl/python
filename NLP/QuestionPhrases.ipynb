{
 "cells": [
  {
   "cell_type": "code",
   "execution_count": 2,
   "metadata": {},
   "outputs": [
    {
     "name": "stdout",
     "output_type": "stream",
     "text": [
      "[('how', 'WRB'), ('why', 'WRB'), ('what', 'WP'), ('when', 'WRB'), ('where', 'WRB'), ('can', 'MD'), ('which', 'WDT')]\n"
     ]
    },
    {
     "data": {
      "text/plain": [
       "array(['what is', 'is the', 'what are', 'how do', 'what is the',\n",
       "       'the best', 'how can', 'are the', 'what are the', 'are some',\n",
       "       'is the best', 'what are some', 'do you', 'is it', 'in the',\n",
       "       'of the', 'what is the best', 'why do', 'are the best', 'which is',\n",
       "       'in india', 'how do you', 'why is', 'what are the best', 'way to',\n",
       "       'the most', 'how does', 'difference between', 'what does',\n",
       "       'is there', 'the difference', 'which is the',\n",
       "       'the difference between', 'what should', 'what do', 'can you',\n",
       "       'does it', 'how is', 'to be', 'can get', 'to the',\n",
       "       'which is the best', 'is the difference', 'what is the difference',\n",
       "       'best way', 'how much', 'is the difference between', 'where can',\n",
       "       'the best way', 'what the'], dtype=object)"
      ]
     },
     "execution_count": 2,
     "metadata": {},
     "output_type": "execute_result"
    }
   ],
   "source": [
    "import pandas as pd\n",
    "import numpy as np\n",
    "import nltk\n",
    "\n",
    "data=pd.read_csv('train.csv')\n",
    "\n",
    "# Finding words that have interrogatory meaning\n",
    "questions=data['question1'].values.tolist() + data['question2'].values.tolist() \n",
    "questions=[x for x in questions if len(str(x)) > 10]\n",
    "totalLength=len(questions) # 808443\n",
    "\n",
    "from sklearn.feature_extraction.text import CountVectorizer\n",
    "vectorizer = CountVectorizer(ngram_range=(2,4))\n",
    "X = vectorizer.fit_transform(questions)\n",
    "X[X>1]=1\n",
    "countData=pd.DataFrame(zip(vectorizer.get_feature_names(),np.sum(X,axis=0).tolist()[0]),columns=['feature','count'])\n",
    "countData.sort_values(by='count',ascending=False).head(30)\n",
    "# 1 gram\n",
    "print(nltk.pos_tag(['how','why','what','when','where','can','which']))\n",
    "# 2 gram\n",
    "countData.sort_values(by='count',ascending=False).head(50)['feature'].values"
   ]
  }
 ],
 "metadata": {
  "kernelspec": {
   "display_name": "Python 3",
   "language": "python",
   "name": "python3"
  },
  "language_info": {
   "codemirror_mode": {
    "name": "ipython",
    "version": 3
   },
   "file_extension": ".py",
   "mimetype": "text/x-python",
   "name": "python",
   "nbconvert_exporter": "python",
   "pygments_lexer": "ipython3",
   "version": "3.7.6"
  }
 },
 "nbformat": 4,
 "nbformat_minor": 4
}
