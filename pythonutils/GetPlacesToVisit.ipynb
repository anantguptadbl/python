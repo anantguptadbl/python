{
 "cells": [
  {
   "cell_type": "code",
   "execution_count": 15,
   "metadata": {},
   "outputs": [],
   "source": [
    "searchString='places to visit near thimphu'\n",
    "mainLink='https://duckduckgo.com/html/?q={}'.format(searchString.replace(' ','+'))\n",
    "\n",
    "import requests\n",
    "from bs4 import BeautifulSoup\n",
    "from selenium import webdriver\n",
    "import os"
   ]
  },
  {
   "cell_type": "code",
   "execution_count": 16,
   "metadata": {},
   "outputs": [
    {
     "data": {
      "text/plain": [
       "'https://duckduckgo.com/html/?q=places+to+visit+near+thimphu'"
      ]
     },
     "execution_count": 16,
     "metadata": {},
     "output_type": "execute_result"
    }
   ],
   "source": [
    "mainLink"
   ]
  },
  {
   "cell_type": "code",
   "execution_count": 17,
   "metadata": {},
   "outputs": [],
   "source": [
    "path_to_phantomJS='/home/anantgupta/Documents/Programming/Projects/travel/phantomjs'\n",
    "browser = webdriver.PhantomJS(executable_path = path_to_phantomJS,service_log_path=os.path.devnull)\n",
    "browser.get(mainLink)\n",
    "pageContents=browser.page_source\n",
    "browser.close()\n",
    "browser.quit()"
   ]
  },
  {
   "cell_type": "code",
   "execution_count": 18,
   "metadata": {},
   "outputs": [
    {
     "data": {
      "text/plain": [
       "'<!DOCTYPE html PUBLIC \"-//W3C//DTD XHTML 1.0 Transitional//EN\" \"http://www.w3.org/TR/xhtml1/DTD/xhtml1-transitional.dtd\"><!--[if IE 6]><html class=\"ie6\" xmlns=\"http://www.w3.org/1999/xhtml\"><![endif]--><!--[if IE 7]><html class=\"lt-ie8 lt-ie9\" xmlns=\"http://www.w3.org/1999/xhtml\"><![endif]--><!--[if IE 8]><html class=\"lt-ie9\" xmlns=\"http://www.w3.org/1999/xhtml\"><![endif]--><!--[if gt IE 8]><!--><html xmlns=\"http://www.w3.org/1999/xhtml\"><!--<![endif]--><head>\\n  <meta http-equiv=\"content-type\" content=\"text/html; charset=UTF-8\">\\n  <meta name=\"viewport\" content=\"width=device-width, initial-scale=1.0, maximum-scale=3.0, user-scalable=1\">\\n  <meta name=\"referrer\" content=\"origin\">\\n  <meta name=\"HandheldFriendly\" content=\"true\">\\n  <meta name=\"robots\" content=\"noindex, nofollow\">\\n  <title>places to visit near thimphu at DuckDuckGo</title>\\n  <link title=\"DuckDuckGo (HTML)\" type=\"application/opensearchdescription+xml\" rel=\"search\" href=\"/opensearch_html.xml\">\\n  <link href=\"/favicon.ico\" rel=\"shortcut icon\">\\n  <link rel=\"apple-touch-icon\" href=\"/assets/logo_icon128.v101.png\">\\n  <link rel=\"image_src\" href=\"/assets/logo_homepage.normal.v101.png\">  \\n  <link type=\"text/css\" media=\"handheld, all\" href=\"/h1831.css\" rel=\"stylesheet\">\\n</head>\\n\\n<body class=\"body--html\">\\n  <a name=\"top\" id=\"top\"></a>\\n\\n  <form action=\"/html/\" method=\"post\">\\n    <input type=\"text\" name=\"state_hidden\" id=\"state_hidden\">\\n  </form>\\n\\n  <div>\\n    <div class=\"site-wrapper-border\"></div>\\n\\n    <div id=\"header\" class=\"header cw header--html\">\\n        <a title=\"DuckDuckGo\" href=\"/html/\" class=\"header__logo-wrap\"></a>\\n\\n\\n    <form name=\"x\" class=\"header__form\" action=\"/html/\" method=\"post\">\\n\\n      <div class=\"search search--header\">\\n          <input name=\"q\" autocomplete=\"off\" class=\"search__input\" id=\"search_form_input_homepage\" type=\"text\" value=\"places to visit near thimphu\">\\n          <input name=\"b\" id=\"search_button_homepage\" class=\"search__button search__button--html\" value=\"\" title=\"Search\" alt=\"Search\" type=\"submit\">\\n      </div>\\n\\n\\n        \\n        \\n        \\n        \\n        \\n\\n    \\n    \\n      <input name=\"kl\" value=\"us-en\" type=\"hidden\">\\n        \\n        \\n    </form>\\n\\n    </div>\\n\\n\\n\\n\\n\\n<!-- Web results are present -->\\n\\n  <div>\\n  <div class=\"serp__results\">\\n  <div id=\"links\" class=\"results\">\\n\\n      \\n\\n\\n\\n  \\n\\n\\n            <div class=\"result results_links results_links_deep web-result \">\\n\\n\\n          <div class=\"links_main links_deep result__body\"> <!-- This is the visible part -->\\n\\n          <h2 class=\"result__title\">\\n          \\n            <a rel=\"nofollow\" class=\"result__a\" href=\"/l/?kh=-1&amp;uddg=\">No results.</a>\\n          \\n          </h2>\\n\\n      \\n\\n            <div class=\"result__extras\">\\n                <div class=\"result__extras__url\">\\n                  <span class=\"result__icon\">\\n                    \\n                      <a rel=\"nofollow\" href=\"/l/?kh=-1&amp;uddg=\">\\n                        <img class=\"result__icon__img\" width=\"16\" height=\"16\" alt=\"\" src=\"//icons.duckduckgo.com/ip2/.ico\" name=\"i15\">\\n                      </a>\\n                  \\n                  </span>\\n\\n                  <a class=\"result__url\" href=\"/l/?kh=-1&amp;uddg=\">\\n                  \\n                  </a>\\n\\n                  \\n\\n                </div>\\n            </div>\\n\\n            \\n\\n            <div style=\"clear: both\"></div>\\n          </div>\\n\\n        </div>\\n\\n  \\n\\n\\n\\n\\n\\n        <div class=\" feedback-btn\">\\n            <a rel=\"nofollow\" href=\"/feedback.html\" target=\"_new\">Feedback</a>\\n        </div>\\n        <div style=\"clear:both;\"></div>\\n  </div>\\n  </div> <!-- links wrapper //--> \\n\\n    \\n\\n\\n\\n    </div>\\n  </div>\\n\\n\\n\\n\\n    <div id=\"bottom_spacing2\"></div>\\n\\n    \\n      <img src=\"/t/sl_h\">\\n    \\n\\n\\n</body></html>'"
      ]
     },
     "execution_count": 18,
     "metadata": {},
     "output_type": "execute_result"
    }
   ],
   "source": [
    "pageContents"
   ]
  }
 ],
 "metadata": {
  "kernelspec": {
   "display_name": "Python 3",
   "language": "python",
   "name": "python3"
  },
  "language_info": {
   "codemirror_mode": {
    "name": "ipython",
    "version": 3
   },
   "file_extension": ".py",
   "mimetype": "text/x-python",
   "name": "python",
   "nbconvert_exporter": "python",
   "pygments_lexer": "ipython3",
   "version": "3.7.3"
  }
 },
 "nbformat": 4,
 "nbformat_minor": 2
}
